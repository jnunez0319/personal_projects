{
  "nbformat": 4,
  "nbformat_minor": 0,
  "metadata": {
    "colab": {
      "provenance": [],
      "mount_file_id": "1nonRWm8J01KGgCV61yDzgyrlW3WrLg5U",
      "authorship_tag": "ABX9TyO/pM++Fcx+KAf+7PiWGmNL",
      "include_colab_link": true
    },
    "kernelspec": {
      "name": "python3",
      "display_name": "Python 3"
    },
    "language_info": {
      "name": "python"
    }
  },
  "cells": [
    {
      "cell_type": "markdown",
      "metadata": {
        "id": "view-in-github",
        "colab_type": "text"
      },
      "source": [
        "<a href=\"https://colab.research.google.com/github/jnunez0319/personal_projects/blob/main/naivebayes.ipynb\" target=\"_parent\"><img src=\"https://colab.research.google.com/assets/colab-badge.svg\" alt=\"Open In Colab\"/></a>"
      ]
    },
    {
      "cell_type": "code",
      "execution_count": null,
      "metadata": {
        "id": "_HaGOK06eQNv"
      },
      "outputs": [],
      "source": [
        "# Import necessary libraries\n",
        "import numpy as np\n",
        "import pandas as pd\n",
        "import matplotlib.pyplot as plt\n",
        "import seaborn as sns"
      ]
    },
    {
      "cell_type": "markdown",
      "source": [
        "# Data and Preprocessing"
      ],
      "metadata": {
        "id": "6ScsLuQRekDg"
      }
    },
    {
      "cell_type": "code",
      "source": [
        "col_names = pd.read_csv('/content/drive/MyDrive/ColabNotebooks/csvfiles/document_data/word_indices.txt', sep=\" \", header=None)\n",
        "\n",
        "col_names.shape"
      ],
      "metadata": {
        "colab": {
          "base_uri": "https://localhost:8080/"
        },
        "id": "Kjx-pMsBncI_",
        "outputId": "ef31d40c-5a57-44f3-932a-aa25ef7c14f7"
      },
      "execution_count": null,
      "outputs": [
        {
          "output_type": "execute_result",
          "data": {
            "text/plain": [
              "(5180, 1)"
            ]
          },
          "metadata": {},
          "execution_count": 2
        }
      ]
    },
    {
      "cell_type": "code",
      "source": [
        "X_train = pd.read_csv('/content/drive/MyDrive/ColabNotebooks/csvfiles/document_data/train.csv', header=None)\n",
        "X_test = pd.read_csv('/content/drive/MyDrive/ColabNotebooks/csvfiles/document_data/test.csv', header=None)\n",
        "\n",
        "X_train.columns = col_names[0]\n",
        "X_test.columns = col_names[0]\n",
        "\n",
        "print(X_train.shape, X_test.shape)\n",
        "X_test.head()"
      ],
      "metadata": {
        "colab": {
          "base_uri": "https://localhost:8080/",
          "height": 253
        },
        "id": "W1eGTMtBebfH",
        "outputId": "0a94aa68-7e86-43e8-b18a-22a9575b86c4"
      },
      "execution_count": null,
      "outputs": [
        {
          "output_type": "stream",
          "name": "stdout",
          "text": [
            "(4527, 5180) (1806, 5180)\n"
          ]
        },
        {
          "output_type": "execute_result",
          "data": {
            "text/plain": [
              "0  dlr  new  york  sale  time  cocoa  dec  smith  juli  sept  ...  hkg  twelv  \\\n",
              "0    2    2     0     0     3      0    0      0     0     0  ...    0      0   \n",
              "1    1    0     0     0     0      0    0      0     0     0  ...    0      0   \n",
              "2    2    0     0     0     0      0    0      0     0     0  ...    0      0   \n",
              "3    1    1     1     1     0      0    0      0     0     0  ...    0      0   \n",
              "4    3    1     0     0     0      0    0      0     0     0  ...    0      0   \n",
              "\n",
              "0  arden  sherman  basf  kaufman  charleston  fomc  butan  murdochvil  \n",
              "0      0        0     0        0           0     0      0           0  \n",
              "1      0        0     0        0           0     0      0           0  \n",
              "2      0        0     0        0           0     0      0           0  \n",
              "3      0        0     0        0           0     0      0           0  \n",
              "4      0        0     0        0           0     0      0           0  \n",
              "\n",
              "[5 rows x 5180 columns]"
            ],
            "text/html": [
              "\n",
              "  <div id=\"df-87ff9128-da88-4671-95d0-4e10cd5c4edf\" class=\"colab-df-container\">\n",
              "    <div>\n",
              "<style scoped>\n",
              "    .dataframe tbody tr th:only-of-type {\n",
              "        vertical-align: middle;\n",
              "    }\n",
              "\n",
              "    .dataframe tbody tr th {\n",
              "        vertical-align: top;\n",
              "    }\n",
              "\n",
              "    .dataframe thead th {\n",
              "        text-align: right;\n",
              "    }\n",
              "</style>\n",
              "<table border=\"1\" class=\"dataframe\">\n",
              "  <thead>\n",
              "    <tr style=\"text-align: right;\">\n",
              "      <th></th>\n",
              "      <th>dlr</th>\n",
              "      <th>new</th>\n",
              "      <th>york</th>\n",
              "      <th>sale</th>\n",
              "      <th>time</th>\n",
              "      <th>cocoa</th>\n",
              "      <th>dec</th>\n",
              "      <th>smith</th>\n",
              "      <th>juli</th>\n",
              "      <th>sept</th>\n",
              "      <th>...</th>\n",
              "      <th>hkg</th>\n",
              "      <th>twelv</th>\n",
              "      <th>arden</th>\n",
              "      <th>sherman</th>\n",
              "      <th>basf</th>\n",
              "      <th>kaufman</th>\n",
              "      <th>charleston</th>\n",
              "      <th>fomc</th>\n",
              "      <th>butan</th>\n",
              "      <th>murdochvil</th>\n",
              "    </tr>\n",
              "  </thead>\n",
              "  <tbody>\n",
              "    <tr>\n",
              "      <th>0</th>\n",
              "      <td>2</td>\n",
              "      <td>2</td>\n",
              "      <td>0</td>\n",
              "      <td>0</td>\n",
              "      <td>3</td>\n",
              "      <td>0</td>\n",
              "      <td>0</td>\n",
              "      <td>0</td>\n",
              "      <td>0</td>\n",
              "      <td>0</td>\n",
              "      <td>...</td>\n",
              "      <td>0</td>\n",
              "      <td>0</td>\n",
              "      <td>0</td>\n",
              "      <td>0</td>\n",
              "      <td>0</td>\n",
              "      <td>0</td>\n",
              "      <td>0</td>\n",
              "      <td>0</td>\n",
              "      <td>0</td>\n",
              "      <td>0</td>\n",
              "    </tr>\n",
              "    <tr>\n",
              "      <th>1</th>\n",
              "      <td>1</td>\n",
              "      <td>0</td>\n",
              "      <td>0</td>\n",
              "      <td>0</td>\n",
              "      <td>0</td>\n",
              "      <td>0</td>\n",
              "      <td>0</td>\n",
              "      <td>0</td>\n",
              "      <td>0</td>\n",
              "      <td>0</td>\n",
              "      <td>...</td>\n",
              "      <td>0</td>\n",
              "      <td>0</td>\n",
              "      <td>0</td>\n",
              "      <td>0</td>\n",
              "      <td>0</td>\n",
              "      <td>0</td>\n",
              "      <td>0</td>\n",
              "      <td>0</td>\n",
              "      <td>0</td>\n",
              "      <td>0</td>\n",
              "    </tr>\n",
              "    <tr>\n",
              "      <th>2</th>\n",
              "      <td>2</td>\n",
              "      <td>0</td>\n",
              "      <td>0</td>\n",
              "      <td>0</td>\n",
              "      <td>0</td>\n",
              "      <td>0</td>\n",
              "      <td>0</td>\n",
              "      <td>0</td>\n",
              "      <td>0</td>\n",
              "      <td>0</td>\n",
              "      <td>...</td>\n",
              "      <td>0</td>\n",
              "      <td>0</td>\n",
              "      <td>0</td>\n",
              "      <td>0</td>\n",
              "      <td>0</td>\n",
              "      <td>0</td>\n",
              "      <td>0</td>\n",
              "      <td>0</td>\n",
              "      <td>0</td>\n",
              "      <td>0</td>\n",
              "    </tr>\n",
              "    <tr>\n",
              "      <th>3</th>\n",
              "      <td>1</td>\n",
              "      <td>1</td>\n",
              "      <td>1</td>\n",
              "      <td>1</td>\n",
              "      <td>0</td>\n",
              "      <td>0</td>\n",
              "      <td>0</td>\n",
              "      <td>0</td>\n",
              "      <td>0</td>\n",
              "      <td>0</td>\n",
              "      <td>...</td>\n",
              "      <td>0</td>\n",
              "      <td>0</td>\n",
              "      <td>0</td>\n",
              "      <td>0</td>\n",
              "      <td>0</td>\n",
              "      <td>0</td>\n",
              "      <td>0</td>\n",
              "      <td>0</td>\n",
              "      <td>0</td>\n",
              "      <td>0</td>\n",
              "    </tr>\n",
              "    <tr>\n",
              "      <th>4</th>\n",
              "      <td>3</td>\n",
              "      <td>1</td>\n",
              "      <td>0</td>\n",
              "      <td>0</td>\n",
              "      <td>0</td>\n",
              "      <td>0</td>\n",
              "      <td>0</td>\n",
              "      <td>0</td>\n",
              "      <td>0</td>\n",
              "      <td>0</td>\n",
              "      <td>...</td>\n",
              "      <td>0</td>\n",
              "      <td>0</td>\n",
              "      <td>0</td>\n",
              "      <td>0</td>\n",
              "      <td>0</td>\n",
              "      <td>0</td>\n",
              "      <td>0</td>\n",
              "      <td>0</td>\n",
              "      <td>0</td>\n",
              "      <td>0</td>\n",
              "    </tr>\n",
              "  </tbody>\n",
              "</table>\n",
              "<p>5 rows × 5180 columns</p>\n",
              "</div>\n",
              "    <div class=\"colab-df-buttons\">\n",
              "\n",
              "  <div class=\"colab-df-container\">\n",
              "    <button class=\"colab-df-convert\" onclick=\"convertToInteractive('df-87ff9128-da88-4671-95d0-4e10cd5c4edf')\"\n",
              "            title=\"Convert this dataframe to an interactive table.\"\n",
              "            style=\"display:none;\">\n",
              "\n",
              "  <svg xmlns=\"http://www.w3.org/2000/svg\" height=\"24px\" viewBox=\"0 -960 960 960\">\n",
              "    <path d=\"M120-120v-720h720v720H120Zm60-500h600v-160H180v160Zm220 220h160v-160H400v160Zm0 220h160v-160H400v160ZM180-400h160v-160H180v160Zm440 0h160v-160H620v160ZM180-180h160v-160H180v160Zm440 0h160v-160H620v160Z\"/>\n",
              "  </svg>\n",
              "    </button>\n",
              "\n",
              "  <style>\n",
              "    .colab-df-container {\n",
              "      display:flex;\n",
              "      gap: 12px;\n",
              "    }\n",
              "\n",
              "    .colab-df-convert {\n",
              "      background-color: #E8F0FE;\n",
              "      border: none;\n",
              "      border-radius: 50%;\n",
              "      cursor: pointer;\n",
              "      display: none;\n",
              "      fill: #1967D2;\n",
              "      height: 32px;\n",
              "      padding: 0 0 0 0;\n",
              "      width: 32px;\n",
              "    }\n",
              "\n",
              "    .colab-df-convert:hover {\n",
              "      background-color: #E2EBFA;\n",
              "      box-shadow: 0px 1px 2px rgba(60, 64, 67, 0.3), 0px 1px 3px 1px rgba(60, 64, 67, 0.15);\n",
              "      fill: #174EA6;\n",
              "    }\n",
              "\n",
              "    .colab-df-buttons div {\n",
              "      margin-bottom: 4px;\n",
              "    }\n",
              "\n",
              "    [theme=dark] .colab-df-convert {\n",
              "      background-color: #3B4455;\n",
              "      fill: #D2E3FC;\n",
              "    }\n",
              "\n",
              "    [theme=dark] .colab-df-convert:hover {\n",
              "      background-color: #434B5C;\n",
              "      box-shadow: 0px 1px 3px 1px rgba(0, 0, 0, 0.15);\n",
              "      filter: drop-shadow(0px 1px 2px rgba(0, 0, 0, 0.3));\n",
              "      fill: #FFFFFF;\n",
              "    }\n",
              "  </style>\n",
              "\n",
              "    <script>\n",
              "      const buttonEl =\n",
              "        document.querySelector('#df-87ff9128-da88-4671-95d0-4e10cd5c4edf button.colab-df-convert');\n",
              "      buttonEl.style.display =\n",
              "        google.colab.kernel.accessAllowed ? 'block' : 'none';\n",
              "\n",
              "      async function convertToInteractive(key) {\n",
              "        const element = document.querySelector('#df-87ff9128-da88-4671-95d0-4e10cd5c4edf');\n",
              "        const dataTable =\n",
              "          await google.colab.kernel.invokeFunction('convertToInteractive',\n",
              "                                                    [key], {});\n",
              "        if (!dataTable) return;\n",
              "\n",
              "        const docLinkHtml = 'Like what you see? Visit the ' +\n",
              "          '<a target=\"_blank\" href=https://colab.research.google.com/notebooks/data_table.ipynb>data table notebook</a>'\n",
              "          + ' to learn more about interactive tables.';\n",
              "        element.innerHTML = '';\n",
              "        dataTable['output_type'] = 'display_data';\n",
              "        await google.colab.output.renderOutput(dataTable, element);\n",
              "        const docLink = document.createElement('div');\n",
              "        docLink.innerHTML = docLinkHtml;\n",
              "        element.appendChild(docLink);\n",
              "      }\n",
              "    </script>\n",
              "  </div>\n",
              "\n",
              "\n",
              "<div id=\"df-335d58dc-1052-4d2a-9dfb-95818bbae60e\">\n",
              "  <button class=\"colab-df-quickchart\" onclick=\"quickchart('df-335d58dc-1052-4d2a-9dfb-95818bbae60e')\"\n",
              "            title=\"Suggest charts\"\n",
              "            style=\"display:none;\">\n",
              "\n",
              "<svg xmlns=\"http://www.w3.org/2000/svg\" height=\"24px\"viewBox=\"0 0 24 24\"\n",
              "     width=\"24px\">\n",
              "    <g>\n",
              "        <path d=\"M19 3H5c-1.1 0-2 .9-2 2v14c0 1.1.9 2 2 2h14c1.1 0 2-.9 2-2V5c0-1.1-.9-2-2-2zM9 17H7v-7h2v7zm4 0h-2V7h2v10zm4 0h-2v-4h2v4z\"/>\n",
              "    </g>\n",
              "</svg>\n",
              "  </button>\n",
              "\n",
              "<style>\n",
              "  .colab-df-quickchart {\n",
              "      --bg-color: #E8F0FE;\n",
              "      --fill-color: #1967D2;\n",
              "      --hover-bg-color: #E2EBFA;\n",
              "      --hover-fill-color: #174EA6;\n",
              "      --disabled-fill-color: #AAA;\n",
              "      --disabled-bg-color: #DDD;\n",
              "  }\n",
              "\n",
              "  [theme=dark] .colab-df-quickchart {\n",
              "      --bg-color: #3B4455;\n",
              "      --fill-color: #D2E3FC;\n",
              "      --hover-bg-color: #434B5C;\n",
              "      --hover-fill-color: #FFFFFF;\n",
              "      --disabled-bg-color: #3B4455;\n",
              "      --disabled-fill-color: #666;\n",
              "  }\n",
              "\n",
              "  .colab-df-quickchart {\n",
              "    background-color: var(--bg-color);\n",
              "    border: none;\n",
              "    border-radius: 50%;\n",
              "    cursor: pointer;\n",
              "    display: none;\n",
              "    fill: var(--fill-color);\n",
              "    height: 32px;\n",
              "    padding: 0;\n",
              "    width: 32px;\n",
              "  }\n",
              "\n",
              "  .colab-df-quickchart:hover {\n",
              "    background-color: var(--hover-bg-color);\n",
              "    box-shadow: 0 1px 2px rgba(60, 64, 67, 0.3), 0 1px 3px 1px rgba(60, 64, 67, 0.15);\n",
              "    fill: var(--button-hover-fill-color);\n",
              "  }\n",
              "\n",
              "  .colab-df-quickchart-complete:disabled,\n",
              "  .colab-df-quickchart-complete:disabled:hover {\n",
              "    background-color: var(--disabled-bg-color);\n",
              "    fill: var(--disabled-fill-color);\n",
              "    box-shadow: none;\n",
              "  }\n",
              "\n",
              "  .colab-df-spinner {\n",
              "    border: 2px solid var(--fill-color);\n",
              "    border-color: transparent;\n",
              "    border-bottom-color: var(--fill-color);\n",
              "    animation:\n",
              "      spin 1s steps(1) infinite;\n",
              "  }\n",
              "\n",
              "  @keyframes spin {\n",
              "    0% {\n",
              "      border-color: transparent;\n",
              "      border-bottom-color: var(--fill-color);\n",
              "      border-left-color: var(--fill-color);\n",
              "    }\n",
              "    20% {\n",
              "      border-color: transparent;\n",
              "      border-left-color: var(--fill-color);\n",
              "      border-top-color: var(--fill-color);\n",
              "    }\n",
              "    30% {\n",
              "      border-color: transparent;\n",
              "      border-left-color: var(--fill-color);\n",
              "      border-top-color: var(--fill-color);\n",
              "      border-right-color: var(--fill-color);\n",
              "    }\n",
              "    40% {\n",
              "      border-color: transparent;\n",
              "      border-right-color: var(--fill-color);\n",
              "      border-top-color: var(--fill-color);\n",
              "    }\n",
              "    60% {\n",
              "      border-color: transparent;\n",
              "      border-right-color: var(--fill-color);\n",
              "    }\n",
              "    80% {\n",
              "      border-color: transparent;\n",
              "      border-right-color: var(--fill-color);\n",
              "      border-bottom-color: var(--fill-color);\n",
              "    }\n",
              "    90% {\n",
              "      border-color: transparent;\n",
              "      border-bottom-color: var(--fill-color);\n",
              "    }\n",
              "  }\n",
              "</style>\n",
              "\n",
              "  <script>\n",
              "    async function quickchart(key) {\n",
              "      const quickchartButtonEl =\n",
              "        document.querySelector('#' + key + ' button');\n",
              "      quickchartButtonEl.disabled = true;  // To prevent multiple clicks.\n",
              "      quickchartButtonEl.classList.add('colab-df-spinner');\n",
              "      try {\n",
              "        const charts = await google.colab.kernel.invokeFunction(\n",
              "            'suggestCharts', [key], {});\n",
              "      } catch (error) {\n",
              "        console.error('Error during call to suggestCharts:', error);\n",
              "      }\n",
              "      quickchartButtonEl.classList.remove('colab-df-spinner');\n",
              "      quickchartButtonEl.classList.add('colab-df-quickchart-complete');\n",
              "    }\n",
              "    (() => {\n",
              "      let quickchartButtonEl =\n",
              "        document.querySelector('#df-335d58dc-1052-4d2a-9dfb-95818bbae60e button');\n",
              "      quickchartButtonEl.style.display =\n",
              "        google.colab.kernel.accessAllowed ? 'block' : 'none';\n",
              "    })();\n",
              "  </script>\n",
              "</div>\n",
              "\n",
              "    </div>\n",
              "  </div>\n"
            ],
            "application/vnd.google.colaboratory.intrinsic+json": {
              "type": "dataframe",
              "variable_name": "X_test"
            }
          },
          "metadata": {},
          "execution_count": 3
        }
      ]
    },
    {
      "cell_type": "code",
      "source": [
        "y_train = pd.read_csv('/content/drive/MyDrive/ColabNotebooks/csvfiles/document_data/train_labels.txt', sep=\" \", header=None)\n",
        "y_test = pd.read_csv('/content/drive/MyDrive/ColabNotebooks/csvfiles/document_data/test_labels.txt', sep=\" \", header=None)\n",
        "\n",
        "y_train.columns = ['label']\n",
        "y_test.columns = ['label']\n",
        "\n",
        "print(y_train.shape, y_test.shape)"
      ],
      "metadata": {
        "colab": {
          "base_uri": "https://localhost:8080/"
        },
        "id": "Z6wBytaDg-65",
        "outputId": "5678c223-015b-4d8e-9f60-a3b46564134d"
      },
      "execution_count": null,
      "outputs": [
        {
          "output_type": "stream",
          "name": "stdout",
          "text": [
            "(4527, 1) (1806, 1)\n"
          ]
        }
      ]
    },
    {
      "cell_type": "code",
      "source": [
        "# Convert arrays to numpy arrays\n",
        "X_train = X_train.to_numpy()\n",
        "X_test = X_test.to_numpy()\n",
        "\n",
        "# Flatten labels into 1D arrays\n",
        "y = y_train.to_numpy().flatten()\n",
        "yt = y_test.to_numpy().flatten()\n",
        "y.shape"
      ],
      "metadata": {
        "colab": {
          "base_uri": "https://localhost:8080/"
        },
        "id": "wMNuuA9XODCd",
        "outputId": "8fcb232b-1a13-4678-fbce-31f1666706fe"
      },
      "execution_count": null,
      "outputs": [
        {
          "output_type": "execute_result",
          "data": {
            "text/plain": [
              "(4527,)"
            ]
          },
          "metadata": {},
          "execution_count": 5
        }
      ]
    },
    {
      "cell_type": "markdown",
      "source": [
        "# Naive-Bayes Implementation"
      ],
      "metadata": {
        "id": "qqwMKTSXLxYj"
      }
    },
    {
      "cell_type": "markdown",
      "source": [
        "## Scikit Learn Model"
      ],
      "metadata": {
        "id": "Mr9l_rwVM0jr"
      }
    },
    {
      "cell_type": "markdown",
      "source": [
        "Here we show the use of Scikit Learn's `MultinomialNB` library.\n",
        "\n",
        "> This will be helpful later on when you compare this to our own class done by scratch!"
      ],
      "metadata": {
        "id": "C0vrQlaQRxrQ"
      }
    },
    {
      "cell_type": "code",
      "source": [
        "from sklearn.naive_bayes import MultinomialNB\n",
        "from sklearn.metrics import accuracy_score, precision_score, recall_score"
      ],
      "metadata": {
        "id": "BNJlgUXZM6Gy"
      },
      "execution_count": null,
      "outputs": []
    },
    {
      "cell_type": "code",
      "source": [
        "nb = MultinomialNB()\n",
        "nb.fit(X_train, y)"
      ],
      "metadata": {
        "colab": {
          "base_uri": "https://localhost:8080/",
          "height": 75
        },
        "id": "GI23HM5oNZH6",
        "outputId": "4ace2a6f-777d-4b1d-aff0-be6cd76ffd48"
      },
      "execution_count": null,
      "outputs": [
        {
          "output_type": "execute_result",
          "data": {
            "text/plain": [
              "MultinomialNB()"
            ],
            "text/html": [
              "<style>#sk-container-id-1 {color: black;}#sk-container-id-1 pre{padding: 0;}#sk-container-id-1 div.sk-toggleable {background-color: white;}#sk-container-id-1 label.sk-toggleable__label {cursor: pointer;display: block;width: 100%;margin-bottom: 0;padding: 0.3em;box-sizing: border-box;text-align: center;}#sk-container-id-1 label.sk-toggleable__label-arrow:before {content: \"▸\";float: left;margin-right: 0.25em;color: #696969;}#sk-container-id-1 label.sk-toggleable__label-arrow:hover:before {color: black;}#sk-container-id-1 div.sk-estimator:hover label.sk-toggleable__label-arrow:before {color: black;}#sk-container-id-1 div.sk-toggleable__content {max-height: 0;max-width: 0;overflow: hidden;text-align: left;background-color: #f0f8ff;}#sk-container-id-1 div.sk-toggleable__content pre {margin: 0.2em;color: black;border-radius: 0.25em;background-color: #f0f8ff;}#sk-container-id-1 input.sk-toggleable__control:checked~div.sk-toggleable__content {max-height: 200px;max-width: 100%;overflow: auto;}#sk-container-id-1 input.sk-toggleable__control:checked~label.sk-toggleable__label-arrow:before {content: \"▾\";}#sk-container-id-1 div.sk-estimator input.sk-toggleable__control:checked~label.sk-toggleable__label {background-color: #d4ebff;}#sk-container-id-1 div.sk-label input.sk-toggleable__control:checked~label.sk-toggleable__label {background-color: #d4ebff;}#sk-container-id-1 input.sk-hidden--visually {border: 0;clip: rect(1px 1px 1px 1px);clip: rect(1px, 1px, 1px, 1px);height: 1px;margin: -1px;overflow: hidden;padding: 0;position: absolute;width: 1px;}#sk-container-id-1 div.sk-estimator {font-family: monospace;background-color: #f0f8ff;border: 1px dotted black;border-radius: 0.25em;box-sizing: border-box;margin-bottom: 0.5em;}#sk-container-id-1 div.sk-estimator:hover {background-color: #d4ebff;}#sk-container-id-1 div.sk-parallel-item::after {content: \"\";width: 100%;border-bottom: 1px solid gray;flex-grow: 1;}#sk-container-id-1 div.sk-label:hover label.sk-toggleable__label {background-color: #d4ebff;}#sk-container-id-1 div.sk-serial::before {content: \"\";position: absolute;border-left: 1px solid gray;box-sizing: border-box;top: 0;bottom: 0;left: 50%;z-index: 0;}#sk-container-id-1 div.sk-serial {display: flex;flex-direction: column;align-items: center;background-color: white;padding-right: 0.2em;padding-left: 0.2em;position: relative;}#sk-container-id-1 div.sk-item {position: relative;z-index: 1;}#sk-container-id-1 div.sk-parallel {display: flex;align-items: stretch;justify-content: center;background-color: white;position: relative;}#sk-container-id-1 div.sk-item::before, #sk-container-id-1 div.sk-parallel-item::before {content: \"\";position: absolute;border-left: 1px solid gray;box-sizing: border-box;top: 0;bottom: 0;left: 50%;z-index: -1;}#sk-container-id-1 div.sk-parallel-item {display: flex;flex-direction: column;z-index: 1;position: relative;background-color: white;}#sk-container-id-1 div.sk-parallel-item:first-child::after {align-self: flex-end;width: 50%;}#sk-container-id-1 div.sk-parallel-item:last-child::after {align-self: flex-start;width: 50%;}#sk-container-id-1 div.sk-parallel-item:only-child::after {width: 0;}#sk-container-id-1 div.sk-dashed-wrapped {border: 1px dashed gray;margin: 0 0.4em 0.5em 0.4em;box-sizing: border-box;padding-bottom: 0.4em;background-color: white;}#sk-container-id-1 div.sk-label label {font-family: monospace;font-weight: bold;display: inline-block;line-height: 1.2em;}#sk-container-id-1 div.sk-label-container {text-align: center;}#sk-container-id-1 div.sk-container {/* jupyter's `normalize.less` sets `[hidden] { display: none; }` but bootstrap.min.css set `[hidden] { display: none !important; }` so we also need the `!important` here to be able to override the default hidden behavior on the sphinx rendered scikit-learn.org. See: https://github.com/scikit-learn/scikit-learn/issues/21755 */display: inline-block !important;position: relative;}#sk-container-id-1 div.sk-text-repr-fallback {display: none;}</style><div id=\"sk-container-id-1\" class=\"sk-top-container\"><div class=\"sk-text-repr-fallback\"><pre>MultinomialNB()</pre><b>In a Jupyter environment, please rerun this cell to show the HTML representation or trust the notebook. <br />On GitHub, the HTML representation is unable to render, please try loading this page with nbviewer.org.</b></div><div class=\"sk-container\" hidden><div class=\"sk-item\"><div class=\"sk-estimator sk-toggleable\"><input class=\"sk-toggleable__control sk-hidden--visually\" id=\"sk-estimator-id-1\" type=\"checkbox\" checked><label for=\"sk-estimator-id-1\" class=\"sk-toggleable__label sk-toggleable__label-arrow\">MultinomialNB</label><div class=\"sk-toggleable__content\"><pre>MultinomialNB()</pre></div></div></div></div></div>"
            ]
          },
          "metadata": {},
          "execution_count": 7
        }
      ]
    },
    {
      "cell_type": "code",
      "source": [
        "yp = nb.predict(X_test)\n",
        "print(accuracy_score(yp, yt), precision_score(yp, yt), recall_score(yp, yt))"
      ],
      "metadata": {
        "colab": {
          "base_uri": "https://localhost:8080/"
        },
        "id": "_la--mwYOnDd",
        "outputId": "b7105aaf-e5f1-4405-e675-5cd309cadac4"
      },
      "execution_count": null,
      "outputs": [
        {
          "output_type": "stream",
          "name": "stdout",
          "text": [
            "0.982281284606866 0.9930458970792768 0.9635627530364372\n"
          ]
        }
      ]
    },
    {
      "cell_type": "markdown",
      "source": [
        "## From Scratch"
      ],
      "metadata": {
        "id": "wYbKHY8DMwjy"
      }
    },
    {
      "cell_type": "markdown",
      "source": [
        "![Naive Bayes image](https://databasecamp.de/wp-content/uploads/naive-bayes-overview-1024x709.png)\n",
        "\n",
        "### `NaiveBayes()`\n",
        "\n",
        "The main idea of the `NaiveBayes` classifier is to accomplish the following idea:\n",
        "    \n",
        ">$P(y|X) = \\frac{P(X|y) * P(y)} {P(X)}$\n",
        "\n",
        "This essentially translates to **\" If i pass this set of data the chances of it falling under this class is ___\"**.\n",
        "\n",
        "To accomplish this we can break down the formula into three parts which will be our three main functions in the `NaiveBayes()` class `calc_priors`, `calc_likelihoods`, and `calc_posteriors`.\n",
        "\n",
        "Each class will also have two dictionaries to hold probability data:\n",
        "\n",
        ">`self.priors`: Stores the prior probabilities $P(y)$ for each class.\n",
        "\n",
        ">`self.likelihoods`: Stores the likelihoods $P(X|y)$ for each class, for each feature.\n",
        "--------------------------------------------------------------------------------\n",
        "### `fit(X, y, alpha=1.0)`\n",
        "This function is used to train the Naive Bayes classifier by calling two key methods:\n",
        "\n",
        ">#### `calc_priors(y)`: $P(y)$\n",
        ">This function computes the prior probabilities $P(y)$ and stores it in `self.priors`. The prior probability is simply the probability of each class occurring in the dataset.\n",
        "\n",
        ">#### `calc_likelihoods(X, y, alpha=1.0)`: $P(X|y)$\n",
        ">This function calculates the likelihood $P(X|y)$ using Laplace smoothing (`alpha`) to handle zero counts, which could lead to probability issues. Output is stored in `self.likelihoods`.\n",
        "\n",
        "### `predict(X_test)`\n",
        "This function predicts the class labels for a given set of input samples. and calls the `calc_posteriors` function\n",
        "\n",
        ">#### `calc posteriors(X)` $P(y|X)$\n",
        ">This function calculates the posterior probability $P(y∣X)$ for each sample in `X_test`. Returns an array of predicted class labels for the input samples.\n"
      ],
      "metadata": {
        "id": "ig-pR-AGGj64"
      }
    },
    {
      "cell_type": "code",
      "source": [
        "class NaiveBayes():\n",
        "  '''\n",
        "  Naive Bayes Classifier\n",
        "  We are looking to find essentially:\n",
        "\n",
        "  P(y|X) = P(y)P(X|y)/P(X)\n",
        "\n",
        "  '''\n",
        "  def __init__(self):\n",
        "    self.priors = {}\n",
        "    self.likelihoods = {}\n",
        "\n",
        "  def calc_priors(self, y):\n",
        "    ''' Find P(y) '''\n",
        "    classes = np.unique(y)\n",
        "    for c in classes:\n",
        "      self.priors[c] = np.mean(y == c)\n",
        "\n",
        "  def calc_likelihoods(self, X, y, alpha=1.0):\n",
        "    ''' Find P(X|y) '''\n",
        "    likelihoods = {}\n",
        "    classes = np.unique(y)\n",
        "    num_features = X.shape[1]  # Number of words (vocabulary size)\n",
        "\n",
        "    # For each unique label in the dataset\n",
        "    for class_label in classes:\n",
        "      class_indices = np.where(y == class_label)[0]\n",
        "      X_class = X[class_indices]\n",
        "\n",
        "      # Sum of word counts for all rows where Y = class_label\n",
        "      word_count_class = np.sum(X_class, axis=0)\n",
        "\n",
        "      # Total number of words in row of this class\n",
        "      total_word_count_class = np.sum(word_count_class)\n",
        "\n",
        "      # Apply Laplace smoothing incase any unknown words appear\n",
        "      likelihoods[class_label] = (word_count_class + alpha) / (total_word_count_class + alpha * num_features)\n",
        "\n",
        "    self.likelihoods = likelihoods\n",
        "\n",
        "\n",
        "  def calc_posteriors(self, X):\n",
        "    ''' Find P(y|X) '''\n",
        "    posteriors = []\n",
        "\n",
        "    # go through each row\n",
        "    for x in X:\n",
        "      class_posteriors = {}\n",
        "\n",
        "      # For each class, calculate the posterior probability of the current row\n",
        "      for class_label in self.priors:\n",
        "        # Start with the log of the prior probability to avoid underflow issues\n",
        "        log_posterior = np.log(self.priors[class_label])\n",
        "\n",
        "        # Add the log of the likelihoods for each word in the document\n",
        "        for idx, count in enumerate(x):\n",
        "          if count > 0:\n",
        "            # Add the log of the likelihood for this word, raised to the power of its count\n",
        "            log_posterior += count * np.log(self.likelihoods[class_label][idx])\n",
        "\n",
        "        class_posteriors[class_label] = log_posterior\n",
        "\n",
        "      # at the end take the max score for the posterior, thats our\n",
        "      posteriors.append(max(class_posteriors, key=class_posteriors.get))\n",
        "\n",
        "    return np.array(posteriors)\n",
        "\n",
        "\n",
        "  def fit(self, X, y, alpha=1.0):\n",
        "    self.calc_priors(y)\n",
        "    self.calc_likelihoods(X, y, alpha)\n",
        "\n",
        "  def predict(self, X):\n",
        "    return self.calc_posteriors(X)\n"
      ],
      "metadata": {
        "id": "ksRF_iBcKnrL"
      },
      "execution_count": null,
      "outputs": []
    },
    {
      "cell_type": "markdown",
      "source": [
        "\n",
        ">We could now evaluate and compare our model:"
      ],
      "metadata": {
        "id": "CcdFpkwyQBh-"
      }
    },
    {
      "cell_type": "code",
      "source": [
        "import time\n",
        "\n",
        "nb = NaiveBayes()\n",
        "\n",
        "# Start timer\n",
        "start_time = time.time()\n",
        "\n",
        "# Train model\n",
        "nb.fit(X_train, y_train)\n",
        "\n",
        "# Stop the timer\n",
        "end_time = time.time()\n",
        "\n",
        "#Predict on training set\n",
        "train_yp = nb.predict(X_train)\n",
        "\n",
        "# Output training time and accuracy\n",
        "training_time = end_time - start_time\n",
        "print(f\"Training Time: {training_time:.4f} seconds\")\n",
        "accuracy_score(train_yp, y_train)"
      ],
      "metadata": {
        "colab": {
          "base_uri": "https://localhost:8080/"
        },
        "id": "eMT4MmVcV-aw",
        "outputId": "be4ea4e9-7bdf-40f4-a67c-70167e9cf77a"
      },
      "execution_count": null,
      "outputs": [
        {
          "output_type": "stream",
          "name": "stdout",
          "text": [
            "Training Time: 0.6641 seconds\n"
          ]
        },
        {
          "output_type": "execute_result",
          "data": {
            "text/plain": [
              "0.9692953390766512"
            ]
          },
          "metadata": {},
          "execution_count": 10
        }
      ]
    },
    {
      "cell_type": "code",
      "source": [
        "# Predict on test set and output accuracy\n",
        "yp = nb.predict(X_test)\n",
        "accuracy_score(yp, yt)"
      ],
      "metadata": {
        "colab": {
          "base_uri": "https://localhost:8080/"
        },
        "id": "stGOEp0Ka_Xe",
        "outputId": "53058ac5-875a-4cb9-a794-96db7f3c927c"
      },
      "execution_count": null,
      "outputs": [
        {
          "output_type": "execute_result",
          "data": {
            "text/plain": [
              "0.982281284606866"
            ]
          },
          "metadata": {},
          "execution_count": 11
        }
      ]
    },
    {
      "cell_type": "markdown",
      "source": [
        "Not bad!\n",
        "> Accuracy is surprisingly exactly the same as the `sklearn.naive_bayes MultinominalNB` model at a 98% on the test set which is a nice touch.\n",
        "\n",
        "    0.982281284606866\n",
        "\n",
        "> Runtime is **very fast** too as we consistently get training times <1 second."
      ],
      "metadata": {
        "id": "jkgZvCBHQyMW"
      }
    },
    {
      "cell_type": "markdown",
      "source": [
        "# Conclusion\n",
        ">And there we go! In my opinion Naive Bayes is one of the simpler algorithms to implement from scratch and makes for some good practice in statistics and probability.\n"
      ],
      "metadata": {
        "id": "47zyz31JRrFd"
      }
    },
    {
      "cell_type": "code",
      "source": [],
      "metadata": {
        "id": "VsbeDQ97GHEG"
      },
      "execution_count": null,
      "outputs": []
    }
  ]
}
